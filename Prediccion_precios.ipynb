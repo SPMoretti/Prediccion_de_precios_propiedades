{
 "cells": [
  {
   "cell_type": "markdown",
   "metadata": {},
   "source": [
    "# Predicción de precios de propiedades"
   ]
  },
  {
   "cell_type": "markdown",
   "metadata": {},
   "source": [
    "El objetivo en este caso armar nuestros primeros modelos para predecir el precio de las propiedades en dólares.\n",
    "\n",
    "Las columnas que se agregan son:\n",
    "\n",
    "* `barrios_match`: si coincide el barrio publicado con el geográfico vale 1, si no 0.\n",
    "\n",
    "* `PH`, `apartment`, `house`: variables binarias que indican el tipo de propiedad.\n",
    "\n",
    "* dummies de barrios: variables binarias con 1 o 0 según el barrio.\n",
    "\n",
    "La métrica que vamos a usar para medir es RMSE (raíz del error cuadrático medio), cuya fórmula es:\n",
    "\n",
    "$$RMSE = \\sqrt{\\frac{\\sum_{t=1}^n (\\hat y_t - y_t)^2}{n}}$$"
   ]
  },
  {
   "cell_type": "code",
   "execution_count": 1,
   "metadata": {},
   "outputs": [],
   "source": [
    "import pandas as pd\n",
    "pd.set_option('display.float_format', lambda x: '%.3f' % x)\n",
    "path_dataset = 'dataset/datos_properati_limpios_model.csv'\n",
    "df = pd.read_csv(path_dataset)"
   ]
  },
  {
   "cell_type": "code",
   "execution_count": 2,
   "metadata": {},
   "outputs": [
    {
     "name": "stdout",
     "output_type": "stream",
     "text": [
      "El dataset que vamos a trabajar aquí tiene 6376 observaciones\n"
     ]
    }
   ],
   "source": [
    "print(\"El dataset que vamos a trabajar aquí tiene {} observaciones\".format(df.shape[0]))"
   ]
  },
  {
   "cell_type": "markdown",
   "metadata": {},
   "source": [
    "El objetivo de este proyecto es poder trabajar en el ajuste de modelos y su posterior evaluación."
   ]
  },
  {
   "cell_type": "markdown",
   "metadata": {},
   "source": [
    "Para empezar vamos a separar el `dataset` en un conjunto de entrenamiento (80%) y un conjunto de test (20%). "
   ]
  },
  {
   "cell_type": "code",
   "execution_count": 3,
   "metadata": {},
   "outputs": [
    {
     "name": "stdout",
     "output_type": "stream",
     "text": [
      "(5100, 58)\n",
      "(1276, 58)\n",
      "(5100,)\n",
      "(1276,)\n"
     ]
    }
   ],
   "source": [
    "X = df.drop(['price_aprox_usd'], axis=1)\n",
    "y = df['price_aprox_usd']\n",
    "\n",
    "from sklearn.model_selection import train_test_split\n",
    "X_train, X_test, y_train, y_test = train_test_split(X, y, test_size=0.20, random_state=42)\n",
    "print(X_train.shape)\n",
    "print(X_test.shape)\n",
    "print(y_train.shape)\n",
    "print(y_test.shape)"
   ]
  },
  {
   "cell_type": "markdown",
   "metadata": {},
   "source": [
    "## Árboles de decisión\n",
    "\n",
    "Lo primero que vamos a hacer es entrenar un árbol de decisión y usar de métrica al `RMSE`. \n",
    "\n",
    "Para poder obtener el **RMSE** vamos a medir el `mean_squared_error` y obtener su raíz cuadrada. "
   ]
  },
  {
   "cell_type": "code",
   "execution_count": 4,
   "metadata": {},
   "outputs": [
    {
     "data": {
      "text/plain": [
       "DecisionTreeRegressor(criterion='mse', max_depth=None, max_features=None,\n",
       "                      max_leaf_nodes=None, min_impurity_decrease=0.0,\n",
       "                      min_impurity_split=None, min_samples_leaf=1,\n",
       "                      min_samples_split=2, min_weight_fraction_leaf=0.0,\n",
       "                      presort=False, random_state=None, splitter='best')"
      ]
     },
     "execution_count": 4,
     "metadata": {},
     "output_type": "execute_result"
    }
   ],
   "source": [
    "from sklearn.tree import DecisionTreeRegressor\n",
    "\n",
    "clr=DecisionTreeRegressor()\n",
    "\n",
    "clr.fit(X_train, y_train)"
   ]
  },
  {
   "cell_type": "code",
   "execution_count": 5,
   "metadata": {},
   "outputs": [],
   "source": [
    "y_pred= clr.predict(X_test)"
   ]
  },
  {
   "cell_type": "code",
   "execution_count": 6,
   "metadata": {},
   "outputs": [
    {
     "name": "stdout",
     "output_type": "stream",
     "text": [
      "Error en datos de test: 25196.852933585502\n"
     ]
    }
   ],
   "source": [
    "import numpy as np\n",
    "from sklearn.metrics import mean_squared_error\n",
    "print('Error en datos de test:', np.sqrt(mean_squared_error(y_test, y_pred)))"
   ]
  },
  {
   "cell_type": "markdown",
   "metadata": {},
   "source": [
    "__Analizamos el cambio en el RMSE a medida que es más profundo el árbol de decisión, tanto en training como en testing.__\n"
   ]
  },
  {
   "cell_type": "code",
   "execution_count": 7,
   "metadata": {},
   "outputs": [
    {
     "name": "stdout",
     "output_type": "stream",
     "text": [
      "Prof_árbol:  1  RMSE_Train:  26884.06654887286  RMSE_Test:  26295.14025353065\n",
      "Prof_árbol:  6  RMSE_Train:  20287.874363151426  RMSE_Test:  21908.872820965524\n",
      "Prof_árbol:  11  RMSE_Train:  14100.971579882915  RMSE_Test:  22055.69312986431\n",
      "Prof_árbol:  16  RMSE_Train:  6386.51360970568  RMSE_Test:  24779.31742921491\n",
      "Prof_árbol:  21  RMSE_Train:  1936.4194382913533  RMSE_Test:  25392.529776080148\n",
      "Prof_árbol:  26  RMSE_Train:  569.2369612090697  RMSE_Test:  25320.29484328513\n"
     ]
    }
   ],
   "source": [
    "rmses_train=list()\n",
    "rmses_test=list()\n",
    "for i in range(1,30,5):\n",
    "    clr=DecisionTreeRegressor(max_depth=i)\n",
    "    clr.fit(X_train, y_train)\n",
    "    y_pred_train= clr.predict(X_train)\n",
    "    y_pred_test= clr.predict(X_test)\n",
    "    rmses_train.append(np.sqrt(mean_squared_error(y_train, y_pred_train)))\n",
    "    rmses_test.append(np.sqrt(mean_squared_error(y_test, y_pred_test)))\n",
    "    print(\"Prof_árbol: \",i,\" RMSE_Train: \",rmses_train[-1],\" RMSE_Test: \",rmses_test[-1])"
   ]
  },
  {
   "cell_type": "markdown",
   "metadata": {},
   "source": [
    "Ahora graficamos los valores que guardamos en los arreglos `rmses_train` y `rmses_test`"
   ]
  },
  {
   "cell_type": "code",
   "execution_count": 8,
   "metadata": {
    "scrolled": true
   },
   "outputs": [
    {
     "data": {
      "image/png": "[encoded data removed]",
      "text/plain": [
       "<Figure size 432x288 with 1 Axes>"
      ]
     },
     "metadata": {
      "needs_background": "light"
     },
     "output_type": "display_data"
    }
   ],
   "source": [
    "import matplotlib.pyplot as plt\n",
    "%matplotlib inline \n",
    "plt.plot(range(1,30, 5), rmses_train, label='RMSE Training')\n",
    "plt.plot(range(1,30, 5), rmses_test, label='RMSE Testing')\n",
    "plt.ylim((0, 30000))\n",
    "plt.legend(loc=\"best\")\n",
    "plt.title(\"RMSE Training vs RMSE Testing para árboles de decisión\")\n",
    "plt.show()"
   ]
  },
  {
   "cell_type": "markdown",
   "metadata": {},
   "source": [
    "Podemos ver como el modelo presenta sobreajuste dado que a mayor complejidad (en este caso, mayor profundidad del árbol) más diferencia entre los resultados de training y testing. También observamos como la curva de testing decrece y luego vuelvo a crecer. El punto donde se minimiza está relacionado con el tradeoff entre sesgo y varianza."
   ]
  },
  {
   "cell_type": "markdown",
   "metadata": {},
   "source": [
    "## KNN"
   ]
  },
  {
   "cell_type": "code",
   "execution_count": 9,
   "metadata": {},
   "outputs": [
    {
     "name": "stdout",
     "output_type": "stream",
     "text": [
      "Error en datos de test: 22733.040368844526\n"
     ]
    }
   ],
   "source": [
    "from sklearn.neighbors import KNeighborsRegressor\n",
    "KNR = KNeighborsRegressor()\n",
    "KNR.fit(X_train, y_train)\n",
    "y_pred2= KNR.predict(X_test)\n",
    "print('Error en datos de test:', np.sqrt(mean_squared_error(y_test, y_pred2)))\n"
   ]
  },
  {
   "cell_type": "markdown",
   "metadata": {},
   "source": [
    "__Analizamos el cambio en el RMSE a medida que consideramos más vecinos para KNN, tanto en training como en testing.__"
   ]
  },
  {
   "cell_type": "code",
   "execution_count": 10,
   "metadata": {},
   "outputs": [
    {
     "name": "stdout",
     "output_type": "stream",
     "text": [
      "Prof_árbol:  1  RMSE_Train:  717.7083160050084  RMSE_Test:  26314.375047026846\n",
      "Prof_árbol:  2  RMSE_Train:  13746.009016313237  RMSE_Test:  24378.43157503682\n",
      "Prof_árbol:  3  RMSE_Train:  16557.178260577828  RMSE_Test:  23324.776048948213\n",
      "Prof_árbol:  4  RMSE_Train:  17829.292761243214  RMSE_Test:  23028.274549889524\n",
      "Prof_árbol:  5  RMSE_Train:  18751.379229464594  RMSE_Test:  22733.040368844526\n",
      "Prof_árbol:  6  RMSE_Train:  19293.814806681385  RMSE_Test:  22731.27025782464\n",
      "Prof_árbol:  7  RMSE_Train:  19794.717263196573  RMSE_Test:  22620.31310691122\n",
      "Prof_árbol:  8  RMSE_Train:  20139.78742144739  RMSE_Test:  22634.689482726375\n",
      "Prof_árbol:  9  RMSE_Train:  20468.656317131932  RMSE_Test:  22608.863498855015\n",
      "Prof_árbol:  10  RMSE_Train:  20701.786822437127  RMSE_Test:  22568.211996792175\n",
      "Prof_árbol:  11  RMSE_Train:  20912.32302589446  RMSE_Test:  22479.91578951748\n",
      "Prof_árbol:  12  RMSE_Train:  21139.143085959997  RMSE_Test:  22442.04603011599\n",
      "Prof_árbol:  13  RMSE_Train:  21272.332798820524  RMSE_Test:  22457.046840823732\n",
      "Prof_árbol:  14  RMSE_Train:  21364.85500145764  RMSE_Test:  22566.696958539993\n",
      "Prof_árbol:  15  RMSE_Train:  21441.85527550086  RMSE_Test:  22566.465187327743\n",
      "Prof_árbol:  16  RMSE_Train:  21573.81242697147  RMSE_Test:  22525.328717065153\n",
      "Prof_árbol:  17  RMSE_Train:  21670.194530916495  RMSE_Test:  22483.195042198382\n",
      "Prof_árbol:  18  RMSE_Train:  21772.495151896972  RMSE_Test:  22497.920299301164\n",
      "Prof_árbol:  19  RMSE_Train:  21860.188681197473  RMSE_Test:  22527.948815742915\n",
      "Prof_árbol:  20  RMSE_Train:  21967.906130450498  RMSE_Test:  22537.14265332446\n",
      "Prof_árbol:  21  RMSE_Train:  22062.75264160703  RMSE_Test:  22518.04362318813\n",
      "Prof_árbol:  22  RMSE_Train:  22142.01003813332  RMSE_Test:  22500.339007399805\n",
      "Prof_árbol:  23  RMSE_Train:  22232.704205317248  RMSE_Test:  22502.879609607357\n",
      "Prof_árbol:  24  RMSE_Train:  22302.815306185767  RMSE_Test:  22512.658675687984\n",
      "Prof_árbol:  25  RMSE_Train:  22392.327817968937  RMSE_Test:  22563.793549765833\n",
      "Prof_árbol:  26  RMSE_Train:  22470.937588548288  RMSE_Test:  22650.77574490309\n",
      "Prof_árbol:  27  RMSE_Train:  22526.678661609505  RMSE_Test:  22659.512020356644\n",
      "Prof_árbol:  28  RMSE_Train:  22566.54520745387  RMSE_Test:  22704.298804660535\n",
      "Prof_árbol:  29  RMSE_Train:  22623.424659205648  RMSE_Test:  22730.289491093965\n"
     ]
    }
   ],
   "source": [
    "# Calculá los cambio en el rmse en esta celda\n",
    "rmses_train2=list()\n",
    "rmses_test2=list()\n",
    "for i in range(1,30,1):\n",
    "    KNR = KNeighborsRegressor(n_neighbors =i)\n",
    "    KNR.fit(X_train, y_train)\n",
    "    y_pred_train= KNR.predict(X_train)\n",
    "    y_pred_test= KNR.predict(X_test)\n",
    "    rmses_train2.append(np.sqrt(mean_squared_error(y_train, y_pred_train)))\n",
    "    rmses_test2.append(np.sqrt(mean_squared_error(y_test, y_pred_test)))\n",
    "    print(\"Prof_árbol: \",i,\" RMSE_Train: \",rmses_train2[-1],\" RMSE_Test: \",rmses_test2[-1])"
   ]
  },
  {
   "cell_type": "code",
   "execution_count": 11,
   "metadata": {},
   "outputs": [
    {
     "data": {
      "image/png": "[encoded data removed]",
      "text/plain": [
       "<Figure size 432x288 with 1 Axes>"
      ]
     },
     "metadata": {
      "needs_background": "light"
     },
     "output_type": "display_data"
    }
   ],
   "source": [
    "plt.plot(range(1,30, 1), rmses_train2, label='RMSE Training')\n",
    "plt.plot(range(1,30, 1), rmses_test2, label='RMSE Testing')\n",
    "plt.ylim((0, 30000))\n",
    "plt.legend(loc=\"best\")\n",
    "plt.title(\"RMSE Training vs RMSE Testing para KNN\")\n",
    "plt.show()"
   ]
  },
  {
   "cell_type": "markdown",
   "metadata": {},
   "source": [
    "**Calcularemos el RMSE promedio del resultado de cross validation para un árbol de decisión. \n",
    "Como parámetros usaremos:**\n",
    "- 10 folds\n",
    "- profundidad 5\n",
    "- scoring neg_mean_squared_error.\n"
   ]
  },
  {
   "cell_type": "code",
   "execution_count": 23,
   "metadata": {},
   "outputs": [],
   "source": [
    "from sklearn.tree import DecisionTreeRegressor\n",
    "from sklearn.model_selection import cross_val_score\n",
    "\n",
    "regressor= DecisionTreeRegressor(max_depth=5)\n",
    "scores = cross_val_score(regressor, X_train, y_train,\n",
    "                             scoring=\"neg_mean_squared_error\", cv=10)\n",
    "\n"
   ]
  },
  {
   "cell_type": "code",
   "execution_count": 24,
   "metadata": {},
   "outputs": [],
   "source": [
    "def nmsq2rmse(scores):\n",
    "    return np.sqrt(-scores)"
   ]
  },
  {
   "cell_type": "code",
   "execution_count": 25,
   "metadata": {},
   "outputs": [
    {
     "data": {
      "text/plain": [
       "array([-4.55379022e+08, -4.47750384e+08, -5.15974353e+08, -4.65436915e+08,\n",
       "       -5.11563221e+08, -5.34552234e+08, -4.71181433e+08, -4.81852513e+08,\n",
       "       -4.49061048e+08, -4.99971258e+08])"
      ]
     },
     "execution_count": 25,
     "metadata": {},
     "output_type": "execute_result"
    }
   ],
   "source": [
    "scores"
   ]
  },
  {
   "cell_type": "markdown",
   "metadata": {},
   "source": [
    "Para ver el resultado final, reentrenamos al regresor y mostramos en un dataframe la comparación entre los valores reales, los predichos y su diferencia"
   ]
  },
  {
   "cell_type": "code",
   "execution_count": 26,
   "metadata": {},
   "outputs": [],
   "source": [
    "regressor.fit(X_train, y_train)\n",
    "y_pred = regressor.predict(X_test)\n",
    "val_real = pd.Series(y_test.values)\n",
    "val_pred = pd.Series(y_pred)"
   ]
  },
  {
   "cell_type": "code",
   "execution_count": 27,
   "metadata": {},
   "outputs": [],
   "source": [
    "predicciones = pd.concat([val_real.rename('Valor real'),val_pred.rename('Valor Pred') ,abs(val_real-val_pred).rename('Dif(+/-)')] ,  axis=1)"
   ]
  },
  {
   "cell_type": "code",
   "execution_count": 28,
   "metadata": {},
   "outputs": [
    {
     "data": {
      "text/html": [
       "<div>\n",
       "<style scoped>\n",
       "    .dataframe tbody tr th:only-of-type {\n",
       "        vertical-align: middle;\n",
       "    }\n",
       "\n",
       "    .dataframe tbody tr th {\n",
       "        vertical-align: top;\n",
       "    }\n",
       "\n",
       "    .dataframe thead th {\n",
       "        text-align: right;\n",
       "    }\n",
       "</style>\n",
       "<table border=\"1\" class=\"dataframe\">\n",
       "  <thead>\n",
       "    <tr style=\"text-align: right;\">\n",
       "      <th></th>\n",
       "      <th>Valor real</th>\n",
       "      <th>Valor Pred</th>\n",
       "      <th>Dif(+/-)</th>\n",
       "    </tr>\n",
       "  </thead>\n",
       "  <tbody>\n",
       "    <tr>\n",
       "      <td>0</td>\n",
       "      <td>80000.000</td>\n",
       "      <td>108426.872</td>\n",
       "      <td>28426.872</td>\n",
       "    </tr>\n",
       "    <tr>\n",
       "      <td>1</td>\n",
       "      <td>128000.000</td>\n",
       "      <td>151372.531</td>\n",
       "      <td>23372.531</td>\n",
       "    </tr>\n",
       "    <tr>\n",
       "      <td>2</td>\n",
       "      <td>150000.000</td>\n",
       "      <td>151372.531</td>\n",
       "      <td>1372.531</td>\n",
       "    </tr>\n",
       "    <tr>\n",
       "      <td>3</td>\n",
       "      <td>85000.000</td>\n",
       "      <td>99219.122</td>\n",
       "      <td>14219.122</td>\n",
       "    </tr>\n",
       "    <tr>\n",
       "      <td>4</td>\n",
       "      <td>135000.000</td>\n",
       "      <td>130337.039</td>\n",
       "      <td>4662.961</td>\n",
       "    </tr>\n",
       "    <tr>\n",
       "      <td>5</td>\n",
       "      <td>135000.000</td>\n",
       "      <td>119967.914</td>\n",
       "      <td>15032.086</td>\n",
       "    </tr>\n",
       "    <tr>\n",
       "      <td>6</td>\n",
       "      <td>68000.000</td>\n",
       "      <td>87243.666</td>\n",
       "      <td>19243.666</td>\n",
       "    </tr>\n",
       "    <tr>\n",
       "      <td>7</td>\n",
       "      <td>110000.000</td>\n",
       "      <td>128379.238</td>\n",
       "      <td>18379.238</td>\n",
       "    </tr>\n",
       "    <tr>\n",
       "      <td>8</td>\n",
       "      <td>134000.000</td>\n",
       "      <td>154167.172</td>\n",
       "      <td>20167.172</td>\n",
       "    </tr>\n",
       "    <tr>\n",
       "      <td>9</td>\n",
       "      <td>110000.000</td>\n",
       "      <td>85248.777</td>\n",
       "      <td>24751.223</td>\n",
       "    </tr>\n",
       "  </tbody>\n",
       "</table>\n",
       "</div>"
      ],
      "text/plain": [
       "   Valor real  Valor Pred  Dif(+/-)\n",
       "0   80000.000  108426.872 28426.872\n",
       "1  128000.000  151372.531 23372.531\n",
       "2  150000.000  151372.531  1372.531\n",
       "3   85000.000   99219.122 14219.122\n",
       "4  135000.000  130337.039  4662.961\n",
       "5  135000.000  119967.914 15032.086\n",
       "6   68000.000   87243.666 19243.666\n",
       "7  110000.000  128379.238 18379.238\n",
       "8  134000.000  154167.172 20167.172\n",
       "9  110000.000   85248.777 24751.223"
      ]
     },
     "execution_count": 28,
     "metadata": {},
     "output_type": "execute_result"
    }
   ],
   "source": [
    "predicciones.head(10)"
   ]
  },
  {
   "cell_type": "code",
   "execution_count": null,
   "metadata": {},
   "outputs": [],
   "source": []
  }
 ],
 "metadata": {
  "kernelspec": {
   "display_name": "Python 3",
   "language": "python",
   "name": "python3"
  },
  "language_info": {
   "codemirror_mode": {
    "name": "ipython",
    "version": 3
   },
   "file_extension": ".py",
   "mimetype": "text/x-python",
   "name": "python",
   "nbconvert_exporter": "python",
   "pygments_lexer": "ipython3",
   "version": "3.7.4"
  }
 },
 "nbformat": 4,
 "nbformat_minor": 2
}
